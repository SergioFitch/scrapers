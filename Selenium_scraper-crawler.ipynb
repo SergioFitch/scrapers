{
 "cells": [
  {
   "cell_type": "code",
   "execution_count": 27,
   "metadata": {},
   "outputs": [],
   "source": [
    "from selenium import webdriver\n",
    "from selenium.webdriver.common.keys import Keys\n",
    "import time\n",
    "import requests"
   ]
  },
  {
   "cell_type": "code",
   "execution_count": 95,
   "metadata": {
    "collapsed": true
   },
   "outputs": [],
   "source": [
    "#setting up page progression\n",
    "MAX_PAGE_NUM = 10\n",
    "MAX_PAGE_DIG = 3"
   ]
  },
  {
   "cell_type": "code",
   "execution_count": 84,
   "metadata": {
    "collapsed": true
   },
   "outputs": [],
   "source": [
    "with open(\"result.csv\", \"w\") as f:\n",
    "    f.write(\"Subject_ID, Submitted_Date, Scheduled_Date \\n\")"
   ]
  },
  {
   "cell_type": "code",
   "execution_count": 85,
   "metadata": {},
   "outputs": [],
   "source": [
    "#opening a chrome browser\n",
    "browser = webdriver.Chrome(\"C:\\\\Users\\\\sergio\\\\chromedriver.exe\")\n",
    "browser.get(\"http://tracker.stanford.edu/user/login\")\n",
    "#time.sleep(6)"
   ]
  },
  {
   "cell_type": "code",
   "execution_count": 86,
   "metadata": {},
   "outputs": [],
   "source": [
    "#populating fields by element id\n",
    "username = browser.find_element_by_id(\"edit-name\")\n",
    "password = browser.find_element_by_id(\"edit-pass\")\n",
    "username.send_keys(\"fitchs\")\n",
    "password.send_keys(\"Himc3165\")"
   ]
  },
  {
   "cell_type": "code",
   "execution_count": 87,
   "metadata": {},
   "outputs": [],
   "source": [
    "#login into tracker\n",
    "login_attempt=browser.find_element_by_xpath(\"//*[@type='submit']\")\n",
    "login_attempt.submit()"
   ]
  },
  {
   "cell_type": "code",
   "execution_count": 94,
   "metadata": {},
   "outputs": [],
   "source": [
    "with open(\"results.csv\", \"w\") as f:\n",
    "    f.write(\"Subject_ID, Submitted_Date, Scheduled_Date \\n\")\n",
    "    for i in range(0, MAX_PAGE_NUM + 1):\n",
    "        #page_num = (MAX_PAGE_DIG - len(str(i)))*\"0\"+str(i)\n",
    "        url = \"http://tracker.stanford.edu/study/106-udn-time-sensitive-notify-porter-couriers?page=\"+str(i)\n",
    "\n",
    "        browser.get(url)\n",
    "\n",
    "        udn_id = browser.find_elements_by_xpath(\"//span[@property='dc:title']\")\n",
    "        submit_time = browser.find_elements_by_xpath(\"//span[@property='dc:date dc:created']\")\n",
    "        expected_date = browser.find_elements_by_xpath(\"//span[@property='dc:date']\")\n",
    "\n",
    "        num_id_items = len(submit_time)\n",
    "        for i in range(num_id_items):\n",
    "            f.write(udn_id[i].get_attribute(\"content\") + \",\" + submit_time[i].text + \",\" + expected_date[i].text + \"\\n\" )\n",
    "            #print(udn_id[i].get_attribute(\"content\") + \" : \" + submit_time[i].text +  \" for \" + expected_date[i].text)"
   ]
  },
  {
   "cell_type": "code",
   "execution_count": 48,
   "metadata": {
    "collapsed": true
   },
   "outputs": [],
   "source": [
    "browser.get(\"http://tracker.stanford.edu/study/106-udn-time-sensitive-notify-porter-couriers\")"
   ]
  },
  {
   "cell_type": "code",
   "execution_count": 62,
   "metadata": {},
   "outputs": [],
   "source": [
    "#mining the data\n",
    "#udn_id = browser.find_elements_by_xpath(\"//span[@property='dc:title']\")\n",
    "#submit_time = browser.find_elements_by_xpath(\"//span[@property='dc:date dc:created']\")\n",
    "#expected_date = browser.find_elements_by_xpath(\"//span[@property='dc:date']\")\n"
   ]
  },
  {
   "cell_type": "code",
   "execution_count": 57,
   "metadata": {
    "scrolled": true
   },
   "outputs": [],
   "source": [
    "#print(submit_time)\n",
    "#print(udn_id)"
   ]
  },
  {
   "cell_type": "code",
   "execution_count": 58,
   "metadata": {},
   "outputs": [],
   "source": [
    "#print(udn_id)"
   ]
  },
  {
   "cell_type": "code",
   "execution_count": 64,
   "metadata": {},
   "outputs": [
    {
     "name": "stdout",
     "output_type": "stream",
     "text": [
      "UDN216639 : Submitted by Marta Majcherska on Thu, 12/07/2017 - 16:13 for Tuesday, January 16, 2018 - 08:00\n",
      "UDN102380 : Submitted by Marta Majcherska on Thu, 12/07/2017 - 16:13 for Tuesday, January 16, 2018 - 08:00\n",
      "UDN102380 : Submitted by Marta Majcherska on Thu, 12/07/2017 - 16:12 for Tuesday, December 19, 2017 - 10:00\n",
      "UDN216639 : Submitted by Marta Majcherska on Thu, 12/07/2017 - 16:11 for Tuesday, December 19, 2017 - 10:00\n",
      "UDN525238 : Submitted by Edna Fernandez on Wed, 12/06/2017 - 16:24 for Thursday, December 7, 2017 - 12:00\n",
      "UDN892581 : Submitted by Colleen McCormack on Mon, 12/04/2017 - 15:06 for Tuesday, December 5, 2017 - 10:00\n",
      "UDN892581 : Submitted by Colleen McCormack on Sun, 12/03/2017 - 16:39 for Monday, December 4, 2017 - 10:15\n",
      "UDN436282, UDN399350 : Submitted by Colleen McCormack on Fri, 12/01/2017 - 15:58 for Thursday, December 7, 2017 - 08:00\n",
      "UDN892581 : Submitted by Colleen McCormack on Fri, 12/01/2017 - 15:58 for Monday, December 11, 2017 - 09:00\n",
      "UDN447052 : Submitted by Marta Majcherska on Fri, 12/01/2017 - 15:57 for Wednesday, December 6, 2017 - 10:30\n"
     ]
    }
   ],
   "source": []
  },
  {
   "cell_type": "code",
   "execution_count": 65,
   "metadata": {
    "collapsed": true
   },
   "outputs": [],
   "source": [
    "browser.close()"
   ]
  },
  {
   "cell_type": "code",
   "execution_count": null,
   "metadata": {},
   "outputs": [],
   "source": []
  },
  {
   "cell_type": "code",
   "execution_count": null,
   "metadata": {
    "collapsed": true
   },
   "outputs": [],
   "source": []
  },
  {
   "cell_type": "code",
   "execution_count": null,
   "metadata": {
    "collapsed": true
   },
   "outputs": [],
   "source": []
  },
  {
   "cell_type": "code",
   "execution_count": null,
   "metadata": {
    "collapsed": true
   },
   "outputs": [],
   "source": []
  },
  {
   "cell_type": "code",
   "execution_count": null,
   "metadata": {
    "collapsed": true
   },
   "outputs": [],
   "source": []
  }
 ],
 "metadata": {
  "kernelspec": {
   "display_name": "Python 3",
   "language": "python",
   "name": "python3"
  },
  "language_info": {
   "codemirror_mode": {
    "name": "ipython",
    "version": 3
   },
   "file_extension": ".py",
   "mimetype": "text/x-python",
   "name": "python",
   "nbconvert_exporter": "python",
   "pygments_lexer": "ipython3",
   "version": "3.6.3"
  }
 },
 "nbformat": 4,
 "nbformat_minor": 2
}
